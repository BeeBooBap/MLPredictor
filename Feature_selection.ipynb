{
  "nbformat": 4,
  "nbformat_minor": 0,
  "metadata": {
    "colab": {
      "name": "Feature-selection.ipynb",
      "provenance": [],
      "authorship_tag": "ABX9TyMgoDAXRn/4UginU2bXmq/e",
      "include_colab_link": true
    },
    "kernelspec": {
      "name": "python3",
      "display_name": "Python 3"
    },
    "language_info": {
      "name": "python"
    }
  },
  "cells": [
    {
      "cell_type": "markdown",
      "metadata": {
        "id": "view-in-github",
        "colab_type": "text"
      },
      "source": [
        "<a href=\"https://colab.research.google.com/github/BeeBooBap/MLPredictor/blob/main/Feature_selection.ipynb\" target=\"_parent\"><img src=\"https://colab.research.google.com/assets/colab-badge.svg\" alt=\"Open In Colab\"/></a>"
      ]
    },
    {
      "cell_type": "code",
      "execution_count": 8,
      "metadata": {
        "colab": {
          "base_uri": "https://localhost:8080/",
          "height": 300
        },
        "id": "pBlXsnW1ZYCM",
        "outputId": "0e8c9634-2062-408f-91a5-36882d1960b3"
      },
      "outputs": [
        {
          "output_type": "execute_result",
          "data": {
            "text/plain": [
              "   decisionType  term  naturalCourt  petitioner  respondent  jurisdiction  \\\n",
              "0             1  1946          1301       198.0       172.0           6.0   \n",
              "1             1  1946          1301       100.0        27.0           1.0   \n",
              "2             1  1946          1301       100.0        27.0           1.0   \n",
              "3             1  1946          1301       100.0        27.0           1.0   \n",
              "4             1  1946          1301       100.0        27.0           1.0   \n",
              "\n",
              "   threeJudgeFdc  caseOrigin  caseSource  lcDisagreement  ...  usCite  \\\n",
              "0            0.0        51.0        29.0             0.0  ...       1   \n",
              "1            0.0       123.0        30.0             0.0  ...       3   \n",
              "2            0.0       123.0        30.0             0.0  ...       3   \n",
              "3            0.0       123.0        30.0             0.0  ...       3   \n",
              "4            0.0       123.0        30.0             0.0  ...       3   \n",
              "\n",
              "   sctCite  ledCite  lexisCite  chief  docket  caseName  dateArgument  \\\n",
              "0     4497     7882         11      3    2051      3626           424   \n",
              "1     4415     7779         12      3    1162      1757           464   \n",
              "2     4415     7779         12      3    1692      1757           464   \n",
              "3     4415     7779         12      3    1396      1757           464   \n",
              "4     4415     7779         12      3    1888      1757           464   \n",
              "\n",
              "   dateRearg  lawMinor  \n",
              "0         52       698  \n",
              "1         35       261  \n",
              "2         35       261  \n",
              "3         35       261  \n",
              "4         35       261  \n",
              "\n",
              "[5 rows x 46 columns]"
            ],
            "text/html": [
              "\n",
              "  <div id=\"df-ac928d82-d4f4-450c-9f74-8eecdbc578d1\">\n",
              "    <div class=\"colab-df-container\">\n",
              "      <div>\n",
              "<style scoped>\n",
              "    .dataframe tbody tr th:only-of-type {\n",
              "        vertical-align: middle;\n",
              "    }\n",
              "\n",
              "    .dataframe tbody tr th {\n",
              "        vertical-align: top;\n",
              "    }\n",
              "\n",
              "    .dataframe thead th {\n",
              "        text-align: right;\n",
              "    }\n",
              "</style>\n",
              "<table border=\"1\" class=\"dataframe\">\n",
              "  <thead>\n",
              "    <tr style=\"text-align: right;\">\n",
              "      <th></th>\n",
              "      <th>decisionType</th>\n",
              "      <th>term</th>\n",
              "      <th>naturalCourt</th>\n",
              "      <th>petitioner</th>\n",
              "      <th>respondent</th>\n",
              "      <th>jurisdiction</th>\n",
              "      <th>threeJudgeFdc</th>\n",
              "      <th>caseOrigin</th>\n",
              "      <th>caseSource</th>\n",
              "      <th>lcDisagreement</th>\n",
              "      <th>...</th>\n",
              "      <th>usCite</th>\n",
              "      <th>sctCite</th>\n",
              "      <th>ledCite</th>\n",
              "      <th>lexisCite</th>\n",
              "      <th>chief</th>\n",
              "      <th>docket</th>\n",
              "      <th>caseName</th>\n",
              "      <th>dateArgument</th>\n",
              "      <th>dateRearg</th>\n",
              "      <th>lawMinor</th>\n",
              "    </tr>\n",
              "  </thead>\n",
              "  <tbody>\n",
              "    <tr>\n",
              "      <th>0</th>\n",
              "      <td>1</td>\n",
              "      <td>1946</td>\n",
              "      <td>1301</td>\n",
              "      <td>198.0</td>\n",
              "      <td>172.0</td>\n",
              "      <td>6.0</td>\n",
              "      <td>0.0</td>\n",
              "      <td>51.0</td>\n",
              "      <td>29.0</td>\n",
              "      <td>0.0</td>\n",
              "      <td>...</td>\n",
              "      <td>1</td>\n",
              "      <td>4497</td>\n",
              "      <td>7882</td>\n",
              "      <td>11</td>\n",
              "      <td>3</td>\n",
              "      <td>2051</td>\n",
              "      <td>3626</td>\n",
              "      <td>424</td>\n",
              "      <td>52</td>\n",
              "      <td>698</td>\n",
              "    </tr>\n",
              "    <tr>\n",
              "      <th>1</th>\n",
              "      <td>1</td>\n",
              "      <td>1946</td>\n",
              "      <td>1301</td>\n",
              "      <td>100.0</td>\n",
              "      <td>27.0</td>\n",
              "      <td>1.0</td>\n",
              "      <td>0.0</td>\n",
              "      <td>123.0</td>\n",
              "      <td>30.0</td>\n",
              "      <td>0.0</td>\n",
              "      <td>...</td>\n",
              "      <td>3</td>\n",
              "      <td>4415</td>\n",
              "      <td>7779</td>\n",
              "      <td>12</td>\n",
              "      <td>3</td>\n",
              "      <td>1162</td>\n",
              "      <td>1757</td>\n",
              "      <td>464</td>\n",
              "      <td>35</td>\n",
              "      <td>261</td>\n",
              "    </tr>\n",
              "    <tr>\n",
              "      <th>2</th>\n",
              "      <td>1</td>\n",
              "      <td>1946</td>\n",
              "      <td>1301</td>\n",
              "      <td>100.0</td>\n",
              "      <td>27.0</td>\n",
              "      <td>1.0</td>\n",
              "      <td>0.0</td>\n",
              "      <td>123.0</td>\n",
              "      <td>30.0</td>\n",
              "      <td>0.0</td>\n",
              "      <td>...</td>\n",
              "      <td>3</td>\n",
              "      <td>4415</td>\n",
              "      <td>7779</td>\n",
              "      <td>12</td>\n",
              "      <td>3</td>\n",
              "      <td>1692</td>\n",
              "      <td>1757</td>\n",
              "      <td>464</td>\n",
              "      <td>35</td>\n",
              "      <td>261</td>\n",
              "    </tr>\n",
              "    <tr>\n",
              "      <th>3</th>\n",
              "      <td>1</td>\n",
              "      <td>1946</td>\n",
              "      <td>1301</td>\n",
              "      <td>100.0</td>\n",
              "      <td>27.0</td>\n",
              "      <td>1.0</td>\n",
              "      <td>0.0</td>\n",
              "      <td>123.0</td>\n",
              "      <td>30.0</td>\n",
              "      <td>0.0</td>\n",
              "      <td>...</td>\n",
              "      <td>3</td>\n",
              "      <td>4415</td>\n",
              "      <td>7779</td>\n",
              "      <td>12</td>\n",
              "      <td>3</td>\n",
              "      <td>1396</td>\n",
              "      <td>1757</td>\n",
              "      <td>464</td>\n",
              "      <td>35</td>\n",
              "      <td>261</td>\n",
              "    </tr>\n",
              "    <tr>\n",
              "      <th>4</th>\n",
              "      <td>1</td>\n",
              "      <td>1946</td>\n",
              "      <td>1301</td>\n",
              "      <td>100.0</td>\n",
              "      <td>27.0</td>\n",
              "      <td>1.0</td>\n",
              "      <td>0.0</td>\n",
              "      <td>123.0</td>\n",
              "      <td>30.0</td>\n",
              "      <td>0.0</td>\n",
              "      <td>...</td>\n",
              "      <td>3</td>\n",
              "      <td>4415</td>\n",
              "      <td>7779</td>\n",
              "      <td>12</td>\n",
              "      <td>3</td>\n",
              "      <td>1888</td>\n",
              "      <td>1757</td>\n",
              "      <td>464</td>\n",
              "      <td>35</td>\n",
              "      <td>261</td>\n",
              "    </tr>\n",
              "  </tbody>\n",
              "</table>\n",
              "<p>5 rows × 46 columns</p>\n",
              "</div>\n",
              "      <button class=\"colab-df-convert\" onclick=\"convertToInteractive('df-ac928d82-d4f4-450c-9f74-8eecdbc578d1')\"\n",
              "              title=\"Convert this dataframe to an interactive table.\"\n",
              "              style=\"display:none;\">\n",
              "        \n",
              "  <svg xmlns=\"http://www.w3.org/2000/svg\" height=\"24px\"viewBox=\"0 0 24 24\"\n",
              "       width=\"24px\">\n",
              "    <path d=\"M0 0h24v24H0V0z\" fill=\"none\"/>\n",
              "    <path d=\"M18.56 5.44l.94 2.06.94-2.06 2.06-.94-2.06-.94-.94-2.06-.94 2.06-2.06.94zm-11 1L8.5 8.5l.94-2.06 2.06-.94-2.06-.94L8.5 2.5l-.94 2.06-2.06.94zm10 10l.94 2.06.94-2.06 2.06-.94-2.06-.94-.94-2.06-.94 2.06-2.06.94z\"/><path d=\"M17.41 7.96l-1.37-1.37c-.4-.4-.92-.59-1.43-.59-.52 0-1.04.2-1.43.59L10.3 9.45l-7.72 7.72c-.78.78-.78 2.05 0 2.83L4 21.41c.39.39.9.59 1.41.59.51 0 1.02-.2 1.41-.59l7.78-7.78 2.81-2.81c.8-.78.8-2.07 0-2.86zM5.41 20L4 18.59l7.72-7.72 1.47 1.35L5.41 20z\"/>\n",
              "  </svg>\n",
              "      </button>\n",
              "      \n",
              "  <style>\n",
              "    .colab-df-container {\n",
              "      display:flex;\n",
              "      flex-wrap:wrap;\n",
              "      gap: 12px;\n",
              "    }\n",
              "\n",
              "    .colab-df-convert {\n",
              "      background-color: #E8F0FE;\n",
              "      border: none;\n",
              "      border-radius: 50%;\n",
              "      cursor: pointer;\n",
              "      display: none;\n",
              "      fill: #1967D2;\n",
              "      height: 32px;\n",
              "      padding: 0 0 0 0;\n",
              "      width: 32px;\n",
              "    }\n",
              "\n",
              "    .colab-df-convert:hover {\n",
              "      background-color: #E2EBFA;\n",
              "      box-shadow: 0px 1px 2px rgba(60, 64, 67, 0.3), 0px 1px 3px 1px rgba(60, 64, 67, 0.15);\n",
              "      fill: #174EA6;\n",
              "    }\n",
              "\n",
              "    [theme=dark] .colab-df-convert {\n",
              "      background-color: #3B4455;\n",
              "      fill: #D2E3FC;\n",
              "    }\n",
              "\n",
              "    [theme=dark] .colab-df-convert:hover {\n",
              "      background-color: #434B5C;\n",
              "      box-shadow: 0px 1px 3px 1px rgba(0, 0, 0, 0.15);\n",
              "      filter: drop-shadow(0px 1px 2px rgba(0, 0, 0, 0.3));\n",
              "      fill: #FFFFFF;\n",
              "    }\n",
              "  </style>\n",
              "\n",
              "      <script>\n",
              "        const buttonEl =\n",
              "          document.querySelector('#df-ac928d82-d4f4-450c-9f74-8eecdbc578d1 button.colab-df-convert');\n",
              "        buttonEl.style.display =\n",
              "          google.colab.kernel.accessAllowed ? 'block' : 'none';\n",
              "\n",
              "        async function convertToInteractive(key) {\n",
              "          const element = document.querySelector('#df-ac928d82-d4f4-450c-9f74-8eecdbc578d1');\n",
              "          const dataTable =\n",
              "            await google.colab.kernel.invokeFunction('convertToInteractive',\n",
              "                                                     [key], {});\n",
              "          if (!dataTable) return;\n",
              "\n",
              "          const docLinkHtml = 'Like what you see? Visit the ' +\n",
              "            '<a target=\"_blank\" href=https://colab.research.google.com/notebooks/data_table.ipynb>data table notebook</a>'\n",
              "            + ' to learn more about interactive tables.';\n",
              "          element.innerHTML = '';\n",
              "          dataTable['output_type'] = 'display_data';\n",
              "          await google.colab.output.renderOutput(dataTable, element);\n",
              "          const docLink = document.createElement('div');\n",
              "          docLink.innerHTML = docLinkHtml;\n",
              "          element.appendChild(docLink);\n",
              "        }\n",
              "      </script>\n",
              "    </div>\n",
              "  </div>\n",
              "  "
            ]
          },
          "metadata": {},
          "execution_count": 8
        }
      ],
      "source": [
        "# Import pandas package\n",
        "import pandas as pd\n",
        "\n",
        "# define number of columns\n",
        "n = 46\n",
        "\n",
        "# making data frame\n",
        "df = pd.read_csv(\"processed-sc-dataset.csv\", usecols=range(n))\n",
        "\t\n",
        "# calling head() method and storing in new variable\n",
        "data_top = df.head()\n",
        "\t\n",
        "# display\n",
        "data_top"
      ]
    },
    {
      "cell_type": "code",
      "source": [
        "# Data transforms - rescale\n",
        "from numpy import set_printoptions\n",
        "from sklearn.preprocessing import MinMaxScaler\n",
        "\n",
        "array = df.values\n",
        "X = array[:,0:45]\n",
        "Y = array[:, 45]\n",
        "mmscaler = MinMaxScaler(feature_range=(0, 1))\n",
        "rescaledX = mmscaler.fit_transform(X)\n",
        "\n",
        "# summarize transformed data\n",
        "set_printoptions(precision=3)\n",
        "print(rescaledX[0:5,:])"
      ],
      "metadata": {
        "colab": {
          "base_uri": "https://localhost:8080/"
        },
        "id": "X8Yx4NojaAnL",
        "outputId": "00ad45b4-dc00-46a8-cfc7-0319e19c72ca"
      },
      "execution_count": 9,
      "outputs": [
        {
          "output_type": "stream",
          "name": "stdout",
          "text": [
            "[[0.000e+00 0.000e+00 0.000e+00 3.289e-01 2.855e-01 3.571e-01 0.000e+00\n",
            "  1.661e-01 9.302e-02 0.000e+00 8.333e-01 9.091e-02 0.000e+00 0.000e+00\n",
            "  2.000e-01 0.000e+00 5.000e-01 6.352e-01 0.000e+00 5.724e-01 5.385e-01\n",
            "  5.000e-01 0.000e+00 5.000e-01 6.250e-01 6.661e-01 6.621e-01 6.984e-01\n",
            "  0.000e+00 8.333e-01 2.500e-01 0.000e+00 0.000e+00 0.000e+00 0.000e+00\n",
            "  1.918e-01 1.155e-04 5.005e-01 8.744e-01 1.210e-03 7.500e-01 2.735e-01\n",
            "  3.614e-01 1.310e-01 3.741e-01]\n",
            " [0.000e+00 0.000e+00 0.000e+00 1.653e-01 4.341e-02 0.000e+00 0.000e+00\n",
            "  4.053e-01 9.635e-02 0.000e+00 2.500e-01 9.091e-02 0.000e+00 0.000e+00\n",
            "  1.000e-01 0.000e+00 0.000e+00 0.000e+00 0.000e+00 7.495e-02 0.000e+00\n",
            "  0.000e+00 0.000e+00 5.000e-01 6.250e-01 6.661e-01 6.881e-01 7.807e-01\n",
            "  0.000e+00 5.000e-01 7.500e-01 1.100e-04 9.459e-05 7.338e-05 7.298e-05\n",
            "  1.918e-01 3.464e-04 4.914e-01 8.630e-01 1.320e-03 7.500e-01 1.550e-01\n",
            "  1.751e-01 1.433e-01 2.518e-01]\n",
            " [0.000e+00 0.000e+00 0.000e+00 1.653e-01 4.341e-02 0.000e+00 0.000e+00\n",
            "  4.053e-01 9.635e-02 0.000e+00 2.500e-01 9.091e-02 0.000e+00 0.000e+00\n",
            "  1.000e-01 0.000e+00 0.000e+00 0.000e+00 0.000e+00 7.495e-02 0.000e+00\n",
            "  0.000e+00 0.000e+00 5.000e-01 6.250e-01 6.661e-01 6.881e-01 7.807e-01\n",
            "  0.000e+00 5.000e-01 7.500e-01 1.100e-04 1.892e-04 1.468e-04 1.460e-04\n",
            "  1.918e-01 3.464e-04 4.914e-01 8.630e-01 1.320e-03 7.500e-01 2.257e-01\n",
            "  1.751e-01 1.433e-01 2.518e-01]\n",
            " [0.000e+00 0.000e+00 0.000e+00 1.653e-01 4.341e-02 0.000e+00 0.000e+00\n",
            "  4.053e-01 9.635e-02 0.000e+00 2.500e-01 9.091e-02 0.000e+00 0.000e+00\n",
            "  1.000e-01 0.000e+00 0.000e+00 0.000e+00 0.000e+00 7.495e-02 0.000e+00\n",
            "  0.000e+00 0.000e+00 5.000e-01 6.250e-01 6.661e-01 6.881e-01 7.807e-01\n",
            "  0.000e+00 5.000e-01 7.500e-01 1.100e-04 2.838e-04 2.201e-04 2.189e-04\n",
            "  1.918e-01 3.464e-04 4.914e-01 8.630e-01 1.320e-03 7.500e-01 1.862e-01\n",
            "  1.751e-01 1.433e-01 2.518e-01]\n",
            " [0.000e+00 0.000e+00 0.000e+00 1.653e-01 4.341e-02 0.000e+00 0.000e+00\n",
            "  4.053e-01 9.635e-02 0.000e+00 2.500e-01 9.091e-02 0.000e+00 0.000e+00\n",
            "  1.000e-01 0.000e+00 0.000e+00 0.000e+00 0.000e+00 7.495e-02 0.000e+00\n",
            "  0.000e+00 0.000e+00 5.000e-01 6.250e-01 6.661e-01 6.881e-01 7.807e-01\n",
            "  0.000e+00 5.000e-01 7.500e-01 1.100e-04 3.784e-04 2.935e-04 2.919e-04\n",
            "  1.918e-01 3.464e-04 4.914e-01 8.630e-01 1.320e-03 7.500e-01 2.518e-01\n",
            "  1.751e-01 1.433e-01 2.518e-01]]\n"
          ]
        }
      ]
    },
    {
      "cell_type": "code",
      "source": [
        "# Standardise data (0 mean, 1 stdev)\n",
        "from sklearn.preprocessing import StandardScaler\n",
        "\n",
        "sscaler = StandardScaler().fit(X)\n",
        "standardX = sscaler.transform(X)\n",
        "# summarise transformed data\n",
        "set_printoptions(precision=3)\n",
        "print(standardX[0:5,:])"
      ],
      "metadata": {
        "colab": {
          "base_uri": "https://localhost:8080/"
        },
        "id": "pg6nFJUtaGwW",
        "outputId": "e2330c54-148b-43fb-8bb2-8c8647fb2b8f"
      },
      "execution_count": 10,
      "outputs": [
        {
          "output_type": "stream",
          "name": "stdout",
          "text": [
            "[[-3.799e-01 -1.655e+00 -1.750e+00  5.168e-01  4.076e-01  3.938e+00\n",
            "  -3.175e-01 -6.902e-01 -5.600e-01 -5.182e-01  7.550e-01 -4.795e-01\n",
            "  -9.086e-01 -3.124e-01 -3.299e-01 -1.495e-01  7.726e-01  6.452e+00\n",
            "  -1.081e-01  7.556e-01  7.539e-01  8.813e-01 -1.613e-01  4.622e-01\n",
            "   1.700e+00  1.511e+00 -8.176e-02 -9.449e-01 -7.369e-02  6.355e-01\n",
            "  -4.536e-01 -1.675e+00 -1.713e+00 -1.734e+00 -1.732e+00 -1.327e+00\n",
            "  -1.563e+00 -1.520e-02  1.228e+00 -1.672e+00  7.830e-01 -6.776e-01\n",
            "  -4.933e-01 -1.346e+00 -5.659e+00]\n",
            " [-3.799e-01 -1.655e+00 -1.750e+00 -4.001e-01 -9.315e-01 -3.244e-01\n",
            "  -3.175e-01  3.754e-02 -5.509e-01 -5.182e-01 -6.676e-01 -4.795e-01\n",
            "  -9.086e-01 -3.124e-01 -9.255e-01 -1.495e-01 -1.281e+00 -1.546e-01\n",
            "  -1.081e-01 -1.192e+00 -1.207e+00 -1.007e+00 -1.613e-01  4.622e-01\n",
            "   1.700e+00  1.511e+00  1.472e-03 -4.107e-01 -7.369e-02 -6.453e-01\n",
            "   8.505e-01 -1.674e+00 -1.712e+00 -1.734e+00 -1.732e+00 -1.327e+00\n",
            "  -1.562e+00 -4.664e-02  1.189e+00 -1.671e+00  7.830e-01 -1.120e+00\n",
            "  -1.134e+00 -1.302e+00 -7.547e+00]\n",
            " [-3.799e-01 -1.655e+00 -1.750e+00 -4.001e-01 -9.315e-01 -3.244e-01\n",
            "  -3.175e-01  3.754e-02 -5.509e-01 -5.182e-01 -6.676e-01 -4.795e-01\n",
            "  -9.086e-01 -3.124e-01 -9.255e-01 -1.495e-01 -1.281e+00 -1.546e-01\n",
            "  -1.081e-01 -1.192e+00 -1.207e+00 -1.007e+00 -1.613e-01  4.622e-01\n",
            "   1.700e+00  1.511e+00  1.472e-03 -4.107e-01 -7.369e-02 -6.453e-01\n",
            "   8.505e-01 -1.674e+00 -1.712e+00 -1.734e+00 -1.731e+00 -1.327e+00\n",
            "  -1.562e+00 -4.664e-02  1.189e+00 -1.671e+00  7.830e-01 -8.564e-01\n",
            "  -1.134e+00 -1.302e+00 -7.547e+00]\n",
            " [-3.799e-01 -1.655e+00 -1.750e+00 -4.001e-01 -9.315e-01 -3.244e-01\n",
            "  -3.175e-01  3.754e-02 -5.509e-01 -5.182e-01 -6.676e-01 -4.795e-01\n",
            "  -9.086e-01 -3.124e-01 -9.255e-01 -1.495e-01 -1.281e+00 -1.546e-01\n",
            "  -1.081e-01 -1.192e+00 -1.207e+00 -1.007e+00 -1.613e-01  4.622e-01\n",
            "   1.700e+00  1.511e+00  1.472e-03 -4.107e-01 -7.369e-02 -6.453e-01\n",
            "   8.505e-01 -1.674e+00 -1.712e+00 -1.733e+00 -1.731e+00 -1.327e+00\n",
            "  -1.562e+00 -4.664e-02  1.189e+00 -1.671e+00  7.830e-01 -1.004e+00\n",
            "  -1.134e+00 -1.302e+00 -7.547e+00]\n",
            " [-3.799e-01 -1.655e+00 -1.750e+00 -4.001e-01 -9.315e-01 -3.244e-01\n",
            "  -3.175e-01  3.754e-02 -5.509e-01 -5.182e-01 -6.676e-01 -4.795e-01\n",
            "  -9.086e-01 -3.124e-01 -9.255e-01 -1.495e-01 -1.281e+00 -1.546e-01\n",
            "  -1.081e-01 -1.192e+00 -1.207e+00 -1.007e+00 -1.613e-01  4.622e-01\n",
            "   1.700e+00  1.511e+00  1.472e-03 -4.107e-01 -7.369e-02 -6.453e-01\n",
            "   8.505e-01 -1.674e+00 -1.711e+00 -1.733e+00 -1.731e+00 -1.327e+00\n",
            "  -1.562e+00 -4.664e-02  1.189e+00 -1.671e+00  7.830e-01 -7.587e-01\n",
            "  -1.134e+00 -1.302e+00 -7.547e+00]]\n"
          ]
        }
      ]
    },
    {
      "cell_type": "code",
      "source": [
        "# Normalise data (length of 1)\n",
        "from sklearn.preprocessing import Normalizer\n",
        "\n",
        "nscaler = Normalizer().fit(X)\n",
        "normalizedX = nscaler.transform(X)\n",
        "# summarize transformed data\n",
        "set_printoptions(precision=3)\n",
        "print(normalizedX[0:5,:])"
      ],
      "metadata": {
        "colab": {
          "base_uri": "https://localhost:8080/"
        },
        "id": "1u2uScKcaJd5",
        "outputId": "aca68335-e9c9-4fdb-ac07-66f02caadf71"
      },
      "execution_count": 11,
      "outputs": [
        {
          "output_type": "stream",
          "name": "stdout",
          "text": [
            "[[1.237e-05 2.407e-02 1.609e-02 2.449e-03 2.128e-03 7.422e-05 0.000e+00\n",
            "  6.309e-04 3.587e-04 0.000e+00 1.361e-04 2.474e-05 1.237e-05 1.237e-05\n",
            "  3.711e-05 0.000e+00 1.237e-05 1.237e-05 0.000e+00 9.919e-01 9.896e-05\n",
            "  2.474e-05 0.000e+00 4.948e-05 7.422e-05 7.422e-03 9.649e-04 9.649e-04\n",
            "  1.237e-05 9.896e-05 1.237e-05 0.000e+00 0.000e+00 0.000e+00 0.000e+00\n",
            "  6.123e-03 1.237e-05 5.563e-02 9.750e-02 1.361e-04 3.711e-05 2.537e-02\n",
            "  4.485e-02 5.245e-03 6.433e-04]\n",
            " [7.053e-05 1.372e-01 9.176e-02 7.053e-03 1.904e-03 7.053e-05 0.000e+00\n",
            "  8.675e-03 2.116e-03 0.000e+00 2.821e-04 1.411e-04 7.053e-05 7.053e-05\n",
            "  1.411e-04 0.000e+00 0.000e+00 0.000e+00 0.000e+00 7.405e-01 7.053e-05\n",
            "  7.053e-05 0.000e+00 2.821e-04 4.232e-04 4.232e-02 5.713e-03 6.136e-03\n",
            "  7.053e-05 4.232e-04 2.116e-04 7.053e-05 7.053e-05 7.053e-05 7.053e-05\n",
            "  3.491e-02 2.116e-04 3.114e-01 5.486e-01 8.463e-04 2.116e-04 8.195e-02\n",
            "  1.239e-01 3.273e-02 2.468e-03]\n",
            " [7.026e-05 1.367e-01 9.141e-02 7.026e-03 1.897e-03 7.026e-05 0.000e+00\n",
            "  8.643e-03 2.108e-03 0.000e+00 2.811e-04 1.405e-04 7.026e-05 7.026e-05\n",
            "  1.405e-04 0.000e+00 0.000e+00 0.000e+00 0.000e+00 7.378e-01 7.026e-05\n",
            "  7.026e-05 0.000e+00 2.811e-04 4.216e-04 4.216e-02 5.691e-03 6.113e-03\n",
            "  7.026e-05 4.216e-04 2.108e-04 7.026e-05 1.405e-04 1.405e-04 1.405e-04\n",
            "  3.478e-02 2.108e-04 3.102e-01 5.466e-01 8.432e-04 2.108e-04 1.189e-01\n",
            "  1.235e-01 3.260e-02 2.459e-03]\n",
            " [7.042e-05 1.370e-01 9.162e-02 7.042e-03 1.901e-03 7.042e-05 0.000e+00\n",
            "  8.662e-03 2.113e-03 0.000e+00 2.817e-04 1.408e-04 7.042e-05 7.042e-05\n",
            "  1.408e-04 0.000e+00 0.000e+00 0.000e+00 0.000e+00 7.394e-01 7.042e-05\n",
            "  7.042e-05 0.000e+00 2.817e-04 4.225e-04 4.225e-02 5.704e-03 6.127e-03\n",
            "  7.042e-05 4.225e-04 2.113e-04 7.042e-05 2.113e-04 2.113e-04 2.113e-04\n",
            "  3.486e-02 2.113e-04 3.109e-01 5.478e-01 8.451e-04 2.113e-04 9.831e-02\n",
            "  1.237e-01 3.268e-02 2.465e-03]\n",
            " [7.014e-05 1.365e-01 9.126e-02 7.014e-03 1.894e-03 7.014e-05 0.000e+00\n",
            "  8.628e-03 2.104e-03 0.000e+00 2.806e-04 1.403e-04 7.014e-05 7.014e-05\n",
            "  1.403e-04 0.000e+00 0.000e+00 0.000e+00 0.000e+00 7.365e-01 7.014e-05\n",
            "  7.014e-05 0.000e+00 2.806e-04 4.209e-04 4.209e-02 5.682e-03 6.102e-03\n",
            "  7.014e-05 4.209e-04 2.104e-04 7.014e-05 2.806e-04 2.806e-04 2.806e-04\n",
            "  3.472e-02 2.104e-04 3.097e-01 5.456e-01 8.417e-04 2.104e-04 1.324e-01\n",
            "  1.232e-01 3.255e-02 2.455e-03]]\n"
          ]
        }
      ]
    },
    {
      "cell_type": "code",
      "source": [
        "# binarisation\n",
        "from sklearn.preprocessing import Binarizer\n",
        "\n",
        "binarizer = Binarizer(threshold=0.0).fit(X)\n",
        "binaryX = binarizer.transform(X)\n",
        "# summarize transformed data\n",
        "set_printoptions(precision=3)\n",
        "print(binaryX[0:5,:])"
      ],
      "metadata": {
        "colab": {
          "base_uri": "https://localhost:8080/"
        },
        "id": "X_9KDk2naKrh",
        "outputId": "48f8679c-3d91-4c75-c97a-9a25c6cb615b"
      },
      "execution_count": 12,
      "outputs": [
        {
          "output_type": "stream",
          "name": "stdout",
          "text": [
            "[[1. 1. 1. 1. 1. 1. 0. 1. 1. 0. 1. 1. 1. 1. 1. 0. 1. 1. 0. 1. 1. 1. 0. 1.\n",
            "  1. 1. 1. 1. 1. 1. 1. 0. 0. 0. 0. 1. 1. 1. 1. 1. 1. 1. 1. 1. 1.]\n",
            " [1. 1. 1. 1. 1. 1. 0. 1. 1. 0. 1. 1. 1. 1. 1. 0. 0. 0. 0. 1. 1. 1. 0. 1.\n",
            "  1. 1. 1. 1. 1. 1. 1. 1. 1. 1. 1. 1. 1. 1. 1. 1. 1. 1. 1. 1. 1.]\n",
            " [1. 1. 1. 1. 1. 1. 0. 1. 1. 0. 1. 1. 1. 1. 1. 0. 0. 0. 0. 1. 1. 1. 0. 1.\n",
            "  1. 1. 1. 1. 1. 1. 1. 1. 1. 1. 1. 1. 1. 1. 1. 1. 1. 1. 1. 1. 1.]\n",
            " [1. 1. 1. 1. 1. 1. 0. 1. 1. 0. 1. 1. 1. 1. 1. 0. 0. 0. 0. 1. 1. 1. 0. 1.\n",
            "  1. 1. 1. 1. 1. 1. 1. 1. 1. 1. 1. 1. 1. 1. 1. 1. 1. 1. 1. 1. 1.]\n",
            " [1. 1. 1. 1. 1. 1. 0. 1. 1. 0. 1. 1. 1. 1. 1. 0. 0. 0. 0. 1. 1. 1. 0. 1.\n",
            "  1. 1. 1. 1. 1. 1. 1. 1. 1. 1. 1. 1. 1. 1. 1. 1. 1. 1. 1. 1. 1.]]\n"
          ]
        }
      ]
    },
    {
      "cell_type": "code",
      "source": [
        "# Running decision tree algorithm on raw and processed data to compare accuracy\n",
        "\n",
        "from sklearn.model_selection import KFold\n",
        "from sklearn.model_selection import cross_val_score\n",
        "from sklearn.tree import DecisionTreeClassifier\n",
        "kfold = KFold(n_splits=10)\n",
        "model = DecisionTreeClassifier()\n",
        "results = cross_val_score(model, X, Y, cv=kfold)\n",
        "print(\"Mean estimated accuracy \\n\",results.mean())\n",
        "\n",
        "# Decision tree classification on normalised data\n",
        "results2 = cross_val_score(model, normalizedX, Y, cv=kfold)\n",
        "print(\"Mean estimated accuracy on normalised data \\n\",results2.mean())\n",
        "\n",
        "# Decision tree classification on rescaled data\n",
        "results3 = cross_val_score(model, rescaledX, Y, cv=kfold)\n",
        "print(\"Mean estimated accuracy on rescaled data \\n\",results3.mean())\n",
        "\n",
        "# Decision tree classification on standardised data\n",
        "results4 = cross_val_score(model, standardX, Y, cv=kfold)\n",
        "print(\"Mean estimated accuracy on standardised data \\n\",results4.mean())\n",
        "\n",
        "# Decision tree classification on binarised data\n",
        "results5 = cross_val_score(model, binaryX, Y, cv=kfold)\n",
        "print(\"Mean estimated accuracy on binarised data \\n\",results5.mean())"
      ],
      "metadata": {
        "colab": {
          "base_uri": "https://localhost:8080/"
        },
        "id": "qW6OYXGaaMC8",
        "outputId": "d02f5ac6-551e-48ca-deff-c32014e12213"
      },
      "execution_count": 13,
      "outputs": [
        {
          "output_type": "stream",
          "name": "stdout",
          "text": [
            "Mean estimated accuracy \n",
            " 0.8260227762781709\n",
            "Mean estimated accuracy on normalised data \n",
            " 0.8164624361779722\n",
            "Mean estimated accuracy on rescaled data \n",
            " 0.8263149600430182\n",
            "Mean estimated accuracy on standardised data \n",
            " 0.8259498368179228\n",
            "Mean estimated accuracy on binarised data \n",
            " 0.8187979363989204\n"
          ]
        }
      ]
    },
    {
      "cell_type": "code",
      "source": [
        "# Feature Extraction with RFE\n",
        "from sklearn.feature_selection import RFE\n",
        "from sklearn.tree import DecisionTreeRegressor\n",
        "import matplotlib.pyplot as plt\n",
        "\n",
        "# feature extraction\n",
        "model = DecisionTreeRegressor()\n",
        "rfe = RFE(model, n_features_to_select=6)\n",
        "dc_fit = rfe.fit(X, Y)\n",
        "print(\"Num Features: %d\" % dc_fit.n_features_)\n",
        "print(\"Selected Features: %s\" % dc_fit.support_)\n",
        "print(\"Feature Ranking: %s\" % dc_fit.ranking_)\n",
        "\n",
        "selected_features = []\n",
        "\n",
        "for x in range(len(dc_fit.ranking_)):\n",
        "  if (dc_fit.ranking_[x] == 1) :\n",
        "    selected_features.append(df.columns[x])\n",
        "\n",
        "print(\"Selected Features: %s\" % selected_features)"
      ],
      "metadata": {
        "colab": {
          "base_uri": "https://localhost:8080/"
        },
        "id": "jAkOZx7Da9Ja",
        "outputId": "11b31160-ae5b-4b78-878a-d8ddef30f16f"
      },
      "execution_count": 35,
      "outputs": [
        {
          "output_type": "stream",
          "name": "stdout",
          "text": [
            "Num Features: 6\n",
            "Selected Features: [False False False False False False False False False False False False\n",
            " False False False False False False False  True False False False False\n",
            "  True False False False False False False False False False  True  True\n",
            "  True False False False False  True False False False]\n",
            "Feature Ranking: [25 33 30  5  2 36 28  4  9 23 22 13 21 34 16 38 31 37 39  1 20 32 35 27\n",
            "  1 29  8 18 40 17 12 24 15 14  1  1  1  6 10  7 26  1 11  3 19]\n",
            "Selected Features: ['issue', 'lawType', 'voteId', 'dateDecision', 'usCite', 'docket']\n"
          ]
        }
      ]
    },
    {
      "cell_type": "code",
      "source": [
        "# Feature Extraction with RFE - normalisedX\n",
        "from sklearn.feature_selection import RFE\n",
        "from sklearn.tree import DecisionTreeRegressor\n",
        "import matplotlib.pyplot as plt\n",
        "\n",
        "# feature extraction\n",
        "normalised_dc_fit = rfe.fit(normalizedX, Y)\n",
        "\n",
        "selected_features_normalised = []\n",
        "\n",
        "for x in range(len(normalised_dc_fit.ranking_)):\n",
        "  if (normalised_dc_fit.ranking_[x] == 1) :\n",
        "    selected_features_normalised.append(df.columns[x])\n"
      ],
      "metadata": {
        "id": "JtXKH5kWeEbL"
      },
      "execution_count": 36,
      "outputs": []
    },
    {
      "cell_type": "code",
      "source": [
        "# Feature Extraction with RFE - rescaledX\n",
        "\n",
        "# feature extraction\n",
        "\n",
        "rescaled_dc_fit = rfe.fit(rescaledX, Y)\n",
        "\n",
        "selected_features_rescaled = []\n",
        "\n",
        "for x in range(len(rescaled_dc_fit.ranking_)):\n",
        "  if (rescaled_dc_fit.ranking_[x] == 1) :\n",
        "    selected_features_rescaled.append(df.columns[x])\n"
      ],
      "metadata": {
        "id": "zkVRBX1xeUjU"
      },
      "execution_count": 37,
      "outputs": []
    },
    {
      "cell_type": "code",
      "source": [
        "# Feature Extraction with RFE - standardX\n",
        "\n",
        "# feature extraction\n",
        "\n",
        "standard_dc_fit = rfe.fit(standardX, Y)\n",
        "\n",
        "selected_features_standard = []\n",
        "\n",
        "for x in range(len(standard_dc_fit.ranking_)):\n",
        "  if (standard_dc_fit.ranking_[x] == 1) :\n",
        "    selected_features_standard.append(df.columns[x])"
      ],
      "metadata": {
        "id": "0MlyQ4t-fPl-"
      },
      "execution_count": 38,
      "outputs": []
    },
    {
      "cell_type": "code",
      "source": [
        "# Comparing features selected based on type of data\n",
        "print(\"Raw Features: %s\" % selected_features)\n",
        "print(\"\\nNormal Features: %s\" % selected_features_normalised)\n",
        "print(\"\\nRescaled Features: %s\" % selected_features_rescaled)\n",
        "print(\"\\nStandard Features: %s\" % selected_features_standard)"
      ],
      "metadata": {
        "colab": {
          "base_uri": "https://localhost:8080/"
        },
        "id": "wJNV5ARQfias",
        "outputId": "3c3c6ca7-7ea2-47fb-9885-a428b369fc3f"
      },
      "execution_count": 39,
      "outputs": [
        {
          "output_type": "stream",
          "name": "stdout",
          "text": [
            "Raw Features: ['issue', 'lawType', 'voteId', 'dateDecision', 'usCite', 'docket']\n",
            "\n",
            "Normal Features: ['term', 'naturalCourt', 'petitioner', 'respondent', 'lawSupp', 'usCite']\n",
            "\n",
            "Rescaled Features: ['issue', 'lawSupp', 'caseIssuesId', 'dateDecision', 'usCite', 'docket']\n",
            "\n",
            "Standard Features: ['issue', 'lawSupp', 'caseIssuesId', 'dateDecision', 'lexisCite', 'caseName']\n"
          ]
        }
      ]
    },
    {
      "cell_type": "code",
      "source": [
        "# Feature Selection using SelectKBest\n",
        "from sklearn.feature_selection import SelectKBest\n",
        "from sklearn.feature_selection import f_regression\n",
        "\n",
        "select = SelectKBest(score_func=f_regression, k=6)\n",
        "Z = select.fit_transform(X, Y) \n",
        "\n",
        "Z.shape\n",
        "filter = select.get_support()\n",
        "print(filter)\n",
        "\n",
        "k_best_features = []\n",
        "\n",
        "for x in range(len(filter)):\n",
        "  if (filter[x] == True) :\n",
        "    k_best_features.append(df.columns[x])\n",
        "\n",
        "print(\"\\nK best Features: %s\" % k_best_features)\n"
      ],
      "metadata": {
        "colab": {
          "base_uri": "https://localhost:8080/"
        },
        "id": "3V5d6suOh6RJ",
        "outputId": "a05a6667-f85b-4b20-f43a-499824375ba6"
      },
      "execution_count": 48,
      "outputs": [
        {
          "output_type": "stream",
          "name": "stdout",
          "text": [
            "[False False False False False False False False False False False False\n",
            " False False False False False False False  True  True False  True  True\n",
            "  True  True False False False False False False False False False False\n",
            " False False False False False False False False False]\n",
            "\n",
            "K best Features: ['issue', 'issueArea', 'decisionDirectionDissent', 'authorityDecision1', 'lawType', 'lawSupp']\n"
          ]
        }
      ]
    },
    {
      "cell_type": "code",
      "source": [
        "# Calculating Feature Importance\n",
        "from sklearn.ensemble import ExtraTreesClassifier\n",
        "\n",
        "ETC_model = ExtraTreesClassifier()\n",
        "ETC_model.fit(X, Y)\n",
        "print(ETC_model.feature_importances_)"
      ],
      "metadata": {
        "colab": {
          "base_uri": "https://localhost:8080/"
        },
        "id": "Wl__TFWUj9fg",
        "outputId": "3a05f51c-350a-493d-b277-c32067dea93e"
      },
      "execution_count": 50,
      "outputs": [
        {
          "output_type": "stream",
          "name": "stdout",
          "text": [
            "[0.005 0.016 0.012 0.018 0.019 0.005 0.003 0.021 0.023 0.009 0.016 0.017\n",
            " 0.012 0.004 0.016 0.002 0.01  0.001 0.001 0.027 0.019 0.012 0.002 0.028\n",
            " 0.204 0.16  0.022 0.01  0.    0.016 0.016 0.019 0.021 0.036 0.036 0.02\n",
            " 0.018 0.019 0.019 0.019 0.004 0.019 0.018 0.02  0.003]\n"
          ]
        }
      ]
    },
    {
      "cell_type": "code",
      "source": [
        "# Extracting features \n",
        "\n",
        "print(\"Mean score: %s\" % ETC_model.feature_importances_.mean())\n",
        "print(\"\\nMin score: %s\" % ETC_model.feature_importances_.min())\n",
        "print(\"\\nMax score: %s\" % ETC_model.feature_importances_.max())\n",
        "\n",
        "mean = ETC_model.feature_importances_.mean()\n",
        "ETC_selected_features = []\n",
        "\n",
        "for x in range(len(ETC_model.feature_importances_)):\n",
        "  if (ETC_model.feature_importances_[x] > mean) :\n",
        "    ETC_selected_features.append(df.columns[x])\n",
        "\n",
        "print(\"\\nETC Selected Features: %s\" % ETC_selected_features)"
      ],
      "metadata": {
        "colab": {
          "base_uri": "https://localhost:8080/"
        },
        "id": "q6WaI0aCkTbe",
        "outputId": "0f0a4d27-e265-4f2e-c741-ee987d38e77b"
      },
      "execution_count": 54,
      "outputs": [
        {
          "output_type": "stream",
          "name": "stdout",
          "text": [
            "Mean score: 0.022222222222222223\n",
            "\n",
            "Min score: 0.0004635570322052837\n",
            "\n",
            "Max score: 0.20449766054474963\n",
            "\n",
            "ETC Selected Features: ['caseSource', 'issue', 'authorityDecision1', 'lawType', 'lawSupp', 'caseIssuesId', 'voteId']\n"
          ]
        }
      ]
    },
    {
      "cell_type": "code",
      "source": [
        "# Comparing all features selected\n",
        "print(\"Raw Features: %s\" % selected_features)\n",
        "print(\"\\nNormal Features: %s\" % selected_features_normalised)\n",
        "print(\"\\nRescaled Features: %s\" % selected_features_rescaled)\n",
        "print(\"\\nStandard Features: %s\" % selected_features_standard)\n",
        "print(\"\\nK Best Features: %s\" % k_best_features)\n",
        "print(\"\\nETC Selected Features: %s\" % ETC_selected_features)"
      ],
      "metadata": {
        "colab": {
          "base_uri": "https://localhost:8080/"
        },
        "id": "JGMbF3a7lvuF",
        "outputId": "b67546be-44b7-4118-9743-ecf3bb86f5e4"
      },
      "execution_count": 55,
      "outputs": [
        {
          "output_type": "stream",
          "name": "stdout",
          "text": [
            "Raw Features: ['issue', 'lawType', 'voteId', 'dateDecision', 'usCite', 'docket']\n",
            "\n",
            "Normal Features: ['term', 'naturalCourt', 'petitioner', 'respondent', 'lawSupp', 'usCite']\n",
            "\n",
            "Rescaled Features: ['issue', 'lawSupp', 'caseIssuesId', 'dateDecision', 'usCite', 'docket']\n",
            "\n",
            "Standard Features: ['issue', 'lawSupp', 'caseIssuesId', 'dateDecision', 'lexisCite', 'caseName']\n",
            "\n",
            "K Best Features: ['issue', 'issueArea', 'decisionDirectionDissent', 'authorityDecision1', 'lawType', 'lawSupp']\n",
            "\n",
            "ETC Selected Features: ['caseSource', 'issue', 'authorityDecision1', 'lawType', 'lawSupp', 'caseIssuesId', 'voteId']\n"
          ]
        }
      ]
    }
  ]
}